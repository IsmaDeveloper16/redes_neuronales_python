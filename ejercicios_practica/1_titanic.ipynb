{
  "cells": [
    {
      "cell_type": "markdown",
      "metadata": {
        "id": "67RBrvkUviuj"
      },
      "source": [
        "<a href=\"https://www.inove.com.ar\"><img src=\"https://raw.githubusercontent.com/InoveAlumnos/dataset_analytics_python/master/images/PA%20Banner.png\" width=\"1000\" align=\"center\"></a>\n",
        "\n",
        "\n",
        "# Ejercicio de clasificación con titanic dataset\n",
        "\n",
        "Ejemplo de clasificación utilizando el dataset de titanic<br>\n",
        "\n",
        "v1.1"
      ]
    },
    {
      "cell_type": "code",
      "execution_count": 1,
      "metadata": {
        "id": "y2sSeyEovSw-"
      },
      "outputs": [
        {
          "name": "stdout",
          "output_type": "stream",
          "text": [
            "WARNING:tensorflow:From c:\\Users\\Win10\\AppData\\Local\\Programs\\Python\\Python310\\lib\\site-packages\\keras\\src\\losses.py:2976: The name tf.losses.sparse_softmax_cross_entropy is deprecated. Please use tf.compat.v1.losses.sparse_softmax_cross_entropy instead.\n",
            "\n"
          ]
        }
      ],
      "source": [
        "import os\n",
        "import platform\n",
        "\n",
        "import numpy as np\n",
        "import matplotlib.pyplot as plt\n",
        "import seaborn as sns\n",
        "import pandas as pd\n",
        "\n",
        "import keras\n",
        "from keras.models import Sequential\n",
        "from keras.utils import to_categorical  \n",
        "#from keras.utils.np_utils import to_categorical # Si esto no funciona, probar con el import anterior"
      ]
    },
    {
      "cell_type": "markdown",
      "metadata": {
        "id": "7Szo7P_3v00C"
      },
      "source": [
        "# Recolectar datos\n",
        "<img src=\"https://raw.githubusercontent.com/InoveAlumnos/dataset_analytics_python/master/images/Pipeline1.png\" width=\"1000\" align=\"middle\">"
      ]
    },
    {
      "cell_type": "code",
      "execution_count": 2,
      "metadata": {
        "id": "HnVpNGuAvyFi"
      },
      "outputs": [],
      "source": [
        "if os.access('titanic.csv', os.F_OK) is False:\n",
        "    if platform.system() == 'Windows':\n",
        "        !curl https://raw.githubusercontent.com/InoveAlumnos/dataset_analytics_python/master/titanic.csv > titanic.csv\n",
        "    else:\n",
        "        !wget titanic.csv https://raw.githubusercontent.com/InoveAlumnos/dataset_analytics_python/master/titanic.csv"
      ]
    },
    {
      "cell_type": "markdown",
      "metadata": {
        "id": "BbNSgxdfw0ix"
      },
      "source": [
        "### `titanic.csv`:\n",
        "El dataset **`titanic.csv`** contiene datos sobre los pasajeros que estuvieron en el titanic y si finalmente sobrevivieron o nó al viaje.<br>\n",
        "- **Passengerid** --> id del pasajero, ejemplo 5\n",
        "- **Survived** --> sobrevivió? 1(Si), 0(No)\n",
        "- **Pclass** --> clase (1, 2, 3)\n",
        "- **Name** --> nombre\n",
        "- **Sex** --> genero, ejemplo male(masculino), female(femenino)\n",
        "- **Age** --> edad\n",
        "- **Siblings** --> Hermanos y esposas/esposos abordo\n",
        "- **Parch** --> Hijos abordo\n",
        "- **Ticket** --> Nº de ticket\n",
        "- **Fare** --> tarifa del ticket\n",
        "- **Cabine** --> Nº de cabina\n",
        "- **Embarked** --> Puerto de embarque (C = Cherbourg; Q = Queenstown; S = Southampton)\n"
      ]
    },
    {
      "cell_type": "markdown",
      "metadata": {
        "id": "NHHsGe1Qypde"
      },
      "source": [
        "# Procesar datos\n",
        "<img src=\"https://raw.githubusercontent.com/InoveAlumnos/dataset_analytics_python/master/images/Pipeline2.png\" width=\"1000\" align=\"middle\">"
      ]
    },
    {
      "cell_type": "code",
      "execution_count": 3,
      "metadata": {
        "id": "uvzaKBMbyoiy"
      },
      "outputs": [
        {
          "data": {
            "text/html": [
              "<div>\n",
              "<style scoped>\n",
              "    .dataframe tbody tr th:only-of-type {\n",
              "        vertical-align: middle;\n",
              "    }\n",
              "\n",
              "    .dataframe tbody tr th {\n",
              "        vertical-align: top;\n",
              "    }\n",
              "\n",
              "    .dataframe thead th {\n",
              "        text-align: right;\n",
              "    }\n",
              "</style>\n",
              "<table border=\"1\" class=\"dataframe\">\n",
              "  <thead>\n",
              "    <tr style=\"text-align: right;\">\n",
              "      <th></th>\n",
              "      <th>PassengerId</th>\n",
              "      <th>Survived</th>\n",
              "      <th>Pclass</th>\n",
              "      <th>Age</th>\n",
              "      <th>SibSp</th>\n",
              "      <th>Parch</th>\n",
              "      <th>Fare</th>\n",
              "    </tr>\n",
              "  </thead>\n",
              "  <tbody>\n",
              "    <tr>\n",
              "      <th>count</th>\n",
              "      <td>891.000000</td>\n",
              "      <td>891.000000</td>\n",
              "      <td>891.000000</td>\n",
              "      <td>714.000000</td>\n",
              "      <td>891.000000</td>\n",
              "      <td>891.000000</td>\n",
              "      <td>891.000000</td>\n",
              "    </tr>\n",
              "    <tr>\n",
              "      <th>mean</th>\n",
              "      <td>446.000000</td>\n",
              "      <td>0.383838</td>\n",
              "      <td>2.308642</td>\n",
              "      <td>29.699118</td>\n",
              "      <td>0.523008</td>\n",
              "      <td>0.381594</td>\n",
              "      <td>32.204208</td>\n",
              "    </tr>\n",
              "    <tr>\n",
              "      <th>std</th>\n",
              "      <td>257.353842</td>\n",
              "      <td>0.486592</td>\n",
              "      <td>0.836071</td>\n",
              "      <td>14.526497</td>\n",
              "      <td>1.102743</td>\n",
              "      <td>0.806057</td>\n",
              "      <td>49.693429</td>\n",
              "    </tr>\n",
              "    <tr>\n",
              "      <th>min</th>\n",
              "      <td>1.000000</td>\n",
              "      <td>0.000000</td>\n",
              "      <td>1.000000</td>\n",
              "      <td>0.420000</td>\n",
              "      <td>0.000000</td>\n",
              "      <td>0.000000</td>\n",
              "      <td>0.000000</td>\n",
              "    </tr>\n",
              "    <tr>\n",
              "      <th>25%</th>\n",
              "      <td>223.500000</td>\n",
              "      <td>0.000000</td>\n",
              "      <td>2.000000</td>\n",
              "      <td>20.125000</td>\n",
              "      <td>0.000000</td>\n",
              "      <td>0.000000</td>\n",
              "      <td>7.910400</td>\n",
              "    </tr>\n",
              "    <tr>\n",
              "      <th>50%</th>\n",
              "      <td>446.000000</td>\n",
              "      <td>0.000000</td>\n",
              "      <td>3.000000</td>\n",
              "      <td>28.000000</td>\n",
              "      <td>0.000000</td>\n",
              "      <td>0.000000</td>\n",
              "      <td>14.454200</td>\n",
              "    </tr>\n",
              "    <tr>\n",
              "      <th>75%</th>\n",
              "      <td>668.500000</td>\n",
              "      <td>1.000000</td>\n",
              "      <td>3.000000</td>\n",
              "      <td>38.000000</td>\n",
              "      <td>1.000000</td>\n",
              "      <td>0.000000</td>\n",
              "      <td>31.000000</td>\n",
              "    </tr>\n",
              "    <tr>\n",
              "      <th>max</th>\n",
              "      <td>891.000000</td>\n",
              "      <td>1.000000</td>\n",
              "      <td>3.000000</td>\n",
              "      <td>80.000000</td>\n",
              "      <td>8.000000</td>\n",
              "      <td>6.000000</td>\n",
              "      <td>512.329200</td>\n",
              "    </tr>\n",
              "    <tr>\n",
              "      <th>Nan</th>\n",
              "      <td>0.000000</td>\n",
              "      <td>0.000000</td>\n",
              "      <td>0.000000</td>\n",
              "      <td>177.000000</td>\n",
              "      <td>0.000000</td>\n",
              "      <td>0.000000</td>\n",
              "      <td>0.000000</td>\n",
              "    </tr>\n",
              "    <tr>\n",
              "      <th>%Nan</th>\n",
              "      <td>0.000000</td>\n",
              "      <td>0.000000</td>\n",
              "      <td>0.000000</td>\n",
              "      <td>19.865320</td>\n",
              "      <td>0.000000</td>\n",
              "      <td>0.000000</td>\n",
              "      <td>0.000000</td>\n",
              "    </tr>\n",
              "  </tbody>\n",
              "</table>\n",
              "</div>"
            ],
            "text/plain": [
              "       PassengerId    Survived      Pclass         Age       SibSp  \\\n",
              "count   891.000000  891.000000  891.000000  714.000000  891.000000   \n",
              "mean    446.000000    0.383838    2.308642   29.699118    0.523008   \n",
              "std     257.353842    0.486592    0.836071   14.526497    1.102743   \n",
              "min       1.000000    0.000000    1.000000    0.420000    0.000000   \n",
              "25%     223.500000    0.000000    2.000000   20.125000    0.000000   \n",
              "50%     446.000000    0.000000    3.000000   28.000000    0.000000   \n",
              "75%     668.500000    1.000000    3.000000   38.000000    1.000000   \n",
              "max     891.000000    1.000000    3.000000   80.000000    8.000000   \n",
              "Nan       0.000000    0.000000    0.000000  177.000000    0.000000   \n",
              "%Nan      0.000000    0.000000    0.000000   19.865320    0.000000   \n",
              "\n",
              "            Parch        Fare  \n",
              "count  891.000000  891.000000  \n",
              "mean     0.381594   32.204208  \n",
              "std      0.806057   49.693429  \n",
              "min      0.000000    0.000000  \n",
              "25%      0.000000    7.910400  \n",
              "50%      0.000000   14.454200  \n",
              "75%      0.000000   31.000000  \n",
              "max      6.000000  512.329200  \n",
              "Nan      0.000000    0.000000  \n",
              "%Nan     0.000000    0.000000  "
            ]
          },
          "execution_count": 3,
          "metadata": {},
          "output_type": "execute_result"
        }
      ],
      "source": [
        "# Alumno, realice una inspeccion del dataset en búsqueda de elementos faltantes\n",
        "df = pd.read_csv(\"titanic.csv\")\n",
        "des = df.describe()\n",
        "des.loc['Nan'] = df.isna().sum()\n",
        "des.loc['%Nan'] = (df.isna().mean())*100\n",
        "des"
      ]
    },
    {
      "cell_type": "code",
      "execution_count": 4,
      "metadata": {
        "id": "Cw9HbE88y3wu"
      },
      "outputs": [
        {
          "data": {
            "text/html": [
              "<div>\n",
              "<style scoped>\n",
              "    .dataframe tbody tr th:only-of-type {\n",
              "        vertical-align: middle;\n",
              "    }\n",
              "\n",
              "    .dataframe tbody tr th {\n",
              "        vertical-align: top;\n",
              "    }\n",
              "\n",
              "    .dataframe thead th {\n",
              "        text-align: right;\n",
              "    }\n",
              "</style>\n",
              "<table border=\"1\" class=\"dataframe\">\n",
              "  <thead>\n",
              "    <tr style=\"text-align: right;\">\n",
              "      <th></th>\n",
              "      <th>PassengerId</th>\n",
              "      <th>Survived</th>\n",
              "      <th>Pclass</th>\n",
              "      <th>Age</th>\n",
              "      <th>SibSp</th>\n",
              "      <th>Parch</th>\n",
              "      <th>Fare</th>\n",
              "    </tr>\n",
              "  </thead>\n",
              "  <tbody>\n",
              "    <tr>\n",
              "      <th>count</th>\n",
              "      <td>891.000000</td>\n",
              "      <td>891.000000</td>\n",
              "      <td>891.000000</td>\n",
              "      <td>714.000000</td>\n",
              "      <td>891.000000</td>\n",
              "      <td>891.000000</td>\n",
              "      <td>891.000000</td>\n",
              "    </tr>\n",
              "    <tr>\n",
              "      <th>mean</th>\n",
              "      <td>446.000000</td>\n",
              "      <td>0.383838</td>\n",
              "      <td>2.308642</td>\n",
              "      <td>29.699118</td>\n",
              "      <td>0.523008</td>\n",
              "      <td>0.381594</td>\n",
              "      <td>32.204208</td>\n",
              "    </tr>\n",
              "    <tr>\n",
              "      <th>std</th>\n",
              "      <td>257.353842</td>\n",
              "      <td>0.486592</td>\n",
              "      <td>0.836071</td>\n",
              "      <td>14.526497</td>\n",
              "      <td>1.102743</td>\n",
              "      <td>0.806057</td>\n",
              "      <td>49.693429</td>\n",
              "    </tr>\n",
              "    <tr>\n",
              "      <th>min</th>\n",
              "      <td>1.000000</td>\n",
              "      <td>0.000000</td>\n",
              "      <td>1.000000</td>\n",
              "      <td>0.420000</td>\n",
              "      <td>0.000000</td>\n",
              "      <td>0.000000</td>\n",
              "      <td>0.000000</td>\n",
              "    </tr>\n",
              "    <tr>\n",
              "      <th>25%</th>\n",
              "      <td>223.500000</td>\n",
              "      <td>0.000000</td>\n",
              "      <td>2.000000</td>\n",
              "      <td>20.125000</td>\n",
              "      <td>0.000000</td>\n",
              "      <td>0.000000</td>\n",
              "      <td>7.910400</td>\n",
              "    </tr>\n",
              "  </tbody>\n",
              "</table>\n",
              "</div>"
            ],
            "text/plain": [
              "       PassengerId    Survived      Pclass         Age       SibSp  \\\n",
              "count   891.000000  891.000000  891.000000  714.000000  891.000000   \n",
              "mean    446.000000    0.383838    2.308642   29.699118    0.523008   \n",
              "std     257.353842    0.486592    0.836071   14.526497    1.102743   \n",
              "min       1.000000    0.000000    1.000000    0.420000    0.000000   \n",
              "25%     223.500000    0.000000    2.000000   20.125000    0.000000   \n",
              "\n",
              "            Parch        Fare  \n",
              "count  891.000000  891.000000  \n",
              "mean     0.381594   32.204208  \n",
              "std      0.806057   49.693429  \n",
              "min      0.000000    0.000000  \n",
              "25%      0.000000    7.910400  "
            ]
          },
          "execution_count": 4,
          "metadata": {},
          "output_type": "execute_result"
        }
      ],
      "source": [
        "# Alumno, inspeccione el dataset, visualice las columnas que posee y sus primeras filas\n",
        "des.head()"
      ]
    },
    {
      "cell_type": "code",
      "execution_count": 5,
      "metadata": {
        "id": "9g4_cql61J5m"
      },
      "outputs": [],
      "source": [
        "# Alumno, del dataset original cree uno nuevo pero\n",
        "# unicamente con las siguientes columnas:\n",
        "# Survived, Pclass, Sex, Age, SibSp, Parch\n",
        "df2 = df[['Pclass', 'Sex', 'Age', 'SibSp', 'Parch', 'Survived']]"
      ]
    },
    {
      "cell_type": "code",
      "execution_count": 6,
      "metadata": {
        "id": "aPr3AkXM1DkO"
      },
      "outputs": [
        {
          "name": "stderr",
          "output_type": "stream",
          "text": [
            "C:\\Users\\Win10\\AppData\\Local\\Temp\\ipykernel_19408\\1146035914.py:4: SettingWithCopyWarning: \n",
            "A value is trying to be set on a copy of a slice from a DataFrame\n",
            "\n",
            "See the caveats in the documentation: https://pandas.pydata.org/pandas-docs/stable/user_guide/indexing.html#returning-a-view-versus-a-copy\n",
            "  df2.dropna(inplace=True)\n"
          ]
        }
      ],
      "source": [
        "# Alumno, en caso de encontrarse elementos faltantes,\n",
        "# elimine aquellas filas que tengan columnas vacias\n",
        "# Escriba el procedimiento tenga o no elementos faltantes\n",
        "df2.dropna(inplace=True)"
      ]
    },
    {
      "cell_type": "code",
      "execution_count": 7,
      "metadata": {
        "id": "LirgXKpiy8dr"
      },
      "outputs": [
        {
          "data": {
            "text/plain": [
              "714"
            ]
          },
          "execution_count": 7,
          "metadata": {},
          "output_type": "execute_result"
        }
      ],
      "source": [
        "# Alumno: Fin de la limpieza, especifique cuantas filas se poseen para analizar\n",
        "df2.shape[0]"
      ]
    },
    {
      "cell_type": "markdown",
      "metadata": {
        "id": "0BnzYdlRzBxz"
      },
      "source": [
        "# Explorar datos\n",
        "<img src=\"https://raw.githubusercontent.com/InoveAlumnos/dataset_analytics_python/master/images/Pipeline3.png\" width=\"1000\" align=\"middle\">"
      ]
    },
    {
      "cell_type": "code",
      "execution_count": 8,
      "metadata": {
        "id": "ujLgPJYo18IR"
      },
      "outputs": [
        {
          "data": {
            "text/html": [
              "<div>\n",
              "<style scoped>\n",
              "    .dataframe tbody tr th:only-of-type {\n",
              "        vertical-align: middle;\n",
              "    }\n",
              "\n",
              "    .dataframe tbody tr th {\n",
              "        vertical-align: top;\n",
              "    }\n",
              "\n",
              "    .dataframe thead th {\n",
              "        text-align: right;\n",
              "    }\n",
              "</style>\n",
              "<table border=\"1\" class=\"dataframe\">\n",
              "  <thead>\n",
              "    <tr style=\"text-align: right;\">\n",
              "      <th></th>\n",
              "      <th>Pclass</th>\n",
              "      <th>Sex</th>\n",
              "      <th>Age</th>\n",
              "      <th>SibSp</th>\n",
              "      <th>Parch</th>\n",
              "      <th>Survived</th>\n",
              "    </tr>\n",
              "  </thead>\n",
              "  <tbody>\n",
              "    <tr>\n",
              "      <th>0</th>\n",
              "      <td>3</td>\n",
              "      <td>male</td>\n",
              "      <td>22.0</td>\n",
              "      <td>1</td>\n",
              "      <td>0</td>\n",
              "      <td>0</td>\n",
              "    </tr>\n",
              "    <tr>\n",
              "      <th>1</th>\n",
              "      <td>1</td>\n",
              "      <td>female</td>\n",
              "      <td>38.0</td>\n",
              "      <td>1</td>\n",
              "      <td>0</td>\n",
              "      <td>1</td>\n",
              "    </tr>\n",
              "    <tr>\n",
              "      <th>2</th>\n",
              "      <td>3</td>\n",
              "      <td>female</td>\n",
              "      <td>26.0</td>\n",
              "      <td>0</td>\n",
              "      <td>0</td>\n",
              "      <td>1</td>\n",
              "    </tr>\n",
              "    <tr>\n",
              "      <th>3</th>\n",
              "      <td>1</td>\n",
              "      <td>female</td>\n",
              "      <td>35.0</td>\n",
              "      <td>1</td>\n",
              "      <td>0</td>\n",
              "      <td>1</td>\n",
              "    </tr>\n",
              "    <tr>\n",
              "      <th>4</th>\n",
              "      <td>3</td>\n",
              "      <td>male</td>\n",
              "      <td>35.0</td>\n",
              "      <td>0</td>\n",
              "      <td>0</td>\n",
              "      <td>0</td>\n",
              "    </tr>\n",
              "  </tbody>\n",
              "</table>\n",
              "</div>"
            ],
            "text/plain": [
              "   Pclass     Sex   Age  SibSp  Parch  Survived\n",
              "0       3    male  22.0      1      0         0\n",
              "1       1  female  38.0      1      0         1\n",
              "2       3  female  26.0      0      0         1\n",
              "3       1  female  35.0      1      0         1\n",
              "4       3    male  35.0      0      0         0"
            ]
          },
          "execution_count": 8,
          "metadata": {},
          "output_type": "execute_result"
        }
      ],
      "source": [
        "# Alumno, inspeccione el dataset, visualice las columnas que posee y sus primeras filas\n",
        "df2.head()"
      ]
    },
    {
      "cell_type": "code",
      "execution_count": 9,
      "metadata": {
        "id": "yH6oDykAzBMG"
      },
      "outputs": [
        {
          "data": {
            "text/plain": [
              "Survived\n",
              "0    424\n",
              "1    290\n",
              "Name: count, dtype: int64"
            ]
          },
          "execution_count": 9,
          "metadata": {},
          "output_type": "execute_result"
        }
      ],
      "source": [
        "# Alumno: Explorar que tan balanceado está el dataset,\n",
        "# determinar cuantas personas sobrivivieron o nó \n",
        "df2['Survived'].value_counts()"
      ]
    },
    {
      "cell_type": "code",
      "execution_count": 10,
      "metadata": {},
      "outputs": [
        {
          "data": {
            "text/plain": [
              "<Axes: xlabel='Survived', ylabel='count'>"
            ]
          },
          "execution_count": 10,
          "metadata": {},
          "output_type": "execute_result"
        },
        {
          "data": {
            "image/png": "[encoded data removed]",
            "text/plain": [
              "<Figure size 640x480 with 1 Axes>"
            ]
          },
          "metadata": {},
          "output_type": "display_data"
        }
      ],
      "source": [
        "sns.countplot(df2, x='Survived')"
      ]
    },
    {
      "cell_type": "code",
      "execution_count": 11,
      "metadata": {
        "id": "uPNDkywTzazk"
      },
      "outputs": [
        {
          "data": {
            "text/plain": [
              "<Axes: xlabel='Survived', ylabel='count'>"
            ]
          },
          "execution_count": 11,
          "metadata": {},
          "output_type": "execute_result"
        },
        {
          "data": {
            "image/png": "[encoded data removed]",
            "text/plain": [
              "<Figure size 640x480 with 1 Axes>"
            ]
          },
          "metadata": {},
          "output_type": "display_data"
        }
      ],
      "source": [
        "# Alumno: Determinar cuantas personas sobrevivieron\n",
        "# diferenciando por género\n",
        "# Utilice el gráfico de seaborn countplot con hue=\"Sex\"\n",
        "sns.countplot(df2,x='Survived',hue='Sex')"
      ]
    },
    {
      "cell_type": "code",
      "execution_count": 12,
      "metadata": {},
      "outputs": [
        {
          "data": {
            "text/html": [
              "<div>\n",
              "<style scoped>\n",
              "    .dataframe tbody tr th:only-of-type {\n",
              "        vertical-align: middle;\n",
              "    }\n",
              "\n",
              "    .dataframe tbody tr th {\n",
              "        vertical-align: top;\n",
              "    }\n",
              "\n",
              "    .dataframe thead th {\n",
              "        text-align: right;\n",
              "    }\n",
              "</style>\n",
              "<table border=\"1\" class=\"dataframe\">\n",
              "  <thead>\n",
              "    <tr style=\"text-align: right;\">\n",
              "      <th></th>\n",
              "      <th>Pclass</th>\n",
              "      <th>Sex</th>\n",
              "      <th>Age</th>\n",
              "      <th>SibSp</th>\n",
              "      <th>Parch</th>\n",
              "      <th>Survived</th>\n",
              "    </tr>\n",
              "  </thead>\n",
              "  <tbody>\n",
              "    <tr>\n",
              "      <th>0</th>\n",
              "      <td>3</td>\n",
              "      <td>male</td>\n",
              "      <td>22.0</td>\n",
              "      <td>1</td>\n",
              "      <td>0</td>\n",
              "      <td>0</td>\n",
              "    </tr>\n",
              "    <tr>\n",
              "      <th>1</th>\n",
              "      <td>1</td>\n",
              "      <td>female</td>\n",
              "      <td>38.0</td>\n",
              "      <td>1</td>\n",
              "      <td>0</td>\n",
              "      <td>1</td>\n",
              "    </tr>\n",
              "    <tr>\n",
              "      <th>2</th>\n",
              "      <td>3</td>\n",
              "      <td>female</td>\n",
              "      <td>26.0</td>\n",
              "      <td>0</td>\n",
              "      <td>0</td>\n",
              "      <td>1</td>\n",
              "    </tr>\n",
              "    <tr>\n",
              "      <th>3</th>\n",
              "      <td>1</td>\n",
              "      <td>female</td>\n",
              "      <td>35.0</td>\n",
              "      <td>1</td>\n",
              "      <td>0</td>\n",
              "      <td>1</td>\n",
              "    </tr>\n",
              "    <tr>\n",
              "      <th>4</th>\n",
              "      <td>3</td>\n",
              "      <td>male</td>\n",
              "      <td>35.0</td>\n",
              "      <td>0</td>\n",
              "      <td>0</td>\n",
              "      <td>0</td>\n",
              "    </tr>\n",
              "  </tbody>\n",
              "</table>\n",
              "</div>"
            ],
            "text/plain": [
              "   Pclass     Sex   Age  SibSp  Parch  Survived\n",
              "0       3    male  22.0      1      0         0\n",
              "1       1  female  38.0      1      0         1\n",
              "2       3  female  26.0      0      0         1\n",
              "3       1  female  35.0      1      0         1\n",
              "4       3    male  35.0      0      0         0"
            ]
          },
          "execution_count": 12,
          "metadata": {},
          "output_type": "execute_result"
        }
      ],
      "source": [
        "df2.head()"
      ]
    },
    {
      "cell_type": "code",
      "execution_count": 13,
      "metadata": {
        "id": "WWbxZLQ5ytEP"
      },
      "outputs": [
        {
          "data": {
            "text/plain": [
              "<Axes: xlabel='Pclass', ylabel='count'>"
            ]
          },
          "execution_count": 13,
          "metadata": {},
          "output_type": "execute_result"
        },
        {
          "data": {
            "image/png": "[encoded data removed]",
            "text/plain": [
              "<Figure size 640x480 with 1 Axes>"
            ]
          },
          "metadata": {},
          "output_type": "display_data"
        }
      ],
      "source": [
        "# Alumno: Determinar cuantas personas había de cada clase\n",
        "# Utilice el gráfico de seaborn countplot\n",
        "sns.countplot(df2,x='Pclass')"
      ]
    },
    {
      "cell_type": "code",
      "execution_count": 14,
      "metadata": {
        "id": "aF9zLuKvzAx4"
      },
      "outputs": [
        {
          "data": {
            "text/plain": [
              "<Axes: xlabel='Pclass', ylabel='count'>"
            ]
          },
          "execution_count": 14,
          "metadata": {},
          "output_type": "execute_result"
        },
        {
          "data": {
            "image/png": "[encoded data removed]",
            "text/plain": [
              "<Figure size 640x480 with 1 Axes>"
            ]
          },
          "metadata": {},
          "output_type": "display_data"
        }
      ],
      "source": [
        "# Alumno: Determinar cuantas personas había de cada clase\n",
        "# diferenciando por género\n",
        "# Utilice el gráfico de seaborn countplot con hue=\"Sex\"\n",
        "sns.countplot(df2,x='Pclass',hue='Sex')"
      ]
    },
    {
      "cell_type": "markdown",
      "metadata": {
        "id": "ZdfLMthm0yyY"
      },
      "source": [
        "#### Transformar variables categóricas texto a clases numeradas"
      ]
    },
    {
      "cell_type": "code",
      "execution_count": 15,
      "metadata": {
        "id": "GJlDmX_F1ksA"
      },
      "outputs": [],
      "source": [
        "from sklearn.preprocessing import LabelEncoder"
      ]
    },
    {
      "cell_type": "code",
      "execution_count": 16,
      "metadata": {},
      "outputs": [
        {
          "data": {
            "text/html": [
              "<div>\n",
              "<style scoped>\n",
              "    .dataframe tbody tr th:only-of-type {\n",
              "        vertical-align: middle;\n",
              "    }\n",
              "\n",
              "    .dataframe tbody tr th {\n",
              "        vertical-align: top;\n",
              "    }\n",
              "\n",
              "    .dataframe thead th {\n",
              "        text-align: right;\n",
              "    }\n",
              "</style>\n",
              "<table border=\"1\" class=\"dataframe\">\n",
              "  <thead>\n",
              "    <tr style=\"text-align: right;\">\n",
              "      <th></th>\n",
              "      <th>Pclass</th>\n",
              "      <th>Sex</th>\n",
              "      <th>Age</th>\n",
              "      <th>SibSp</th>\n",
              "      <th>Parch</th>\n",
              "      <th>Survived</th>\n",
              "    </tr>\n",
              "  </thead>\n",
              "  <tbody>\n",
              "    <tr>\n",
              "      <th>0</th>\n",
              "      <td>3</td>\n",
              "      <td>male</td>\n",
              "      <td>22.0</td>\n",
              "      <td>1</td>\n",
              "      <td>0</td>\n",
              "      <td>0</td>\n",
              "    </tr>\n",
              "    <tr>\n",
              "      <th>1</th>\n",
              "      <td>1</td>\n",
              "      <td>female</td>\n",
              "      <td>38.0</td>\n",
              "      <td>1</td>\n",
              "      <td>0</td>\n",
              "      <td>1</td>\n",
              "    </tr>\n",
              "    <tr>\n",
              "      <th>2</th>\n",
              "      <td>3</td>\n",
              "      <td>female</td>\n",
              "      <td>26.0</td>\n",
              "      <td>0</td>\n",
              "      <td>0</td>\n",
              "      <td>1</td>\n",
              "    </tr>\n",
              "    <tr>\n",
              "      <th>3</th>\n",
              "      <td>1</td>\n",
              "      <td>female</td>\n",
              "      <td>35.0</td>\n",
              "      <td>1</td>\n",
              "      <td>0</td>\n",
              "      <td>1</td>\n",
              "    </tr>\n",
              "    <tr>\n",
              "      <th>4</th>\n",
              "      <td>3</td>\n",
              "      <td>male</td>\n",
              "      <td>35.0</td>\n",
              "      <td>0</td>\n",
              "      <td>0</td>\n",
              "      <td>0</td>\n",
              "    </tr>\n",
              "  </tbody>\n",
              "</table>\n",
              "</div>"
            ],
            "text/plain": [
              "   Pclass     Sex   Age  SibSp  Parch  Survived\n",
              "0       3    male  22.0      1      0         0\n",
              "1       1  female  38.0      1      0         1\n",
              "2       3  female  26.0      0      0         1\n",
              "3       1  female  35.0      1      0         1\n",
              "4       3    male  35.0      0      0         0"
            ]
          },
          "execution_count": 16,
          "metadata": {},
          "output_type": "execute_result"
        }
      ],
      "source": [
        "df2.head()"
      ]
    },
    {
      "cell_type": "code",
      "execution_count": 17,
      "metadata": {
        "id": "F92KfUW_2CSB"
      },
      "outputs": [],
      "source": [
        "# Alumno, cree un dataset df_cod como copia del que viene trabajando\n",
        "df_cod = df2.copy()"
      ]
    },
    {
      "cell_type": "code",
      "execution_count": 18,
      "metadata": {
        "id": "Lqa4Qq9dEGzr"
      },
      "outputs": [
        {
          "data": {
            "text/html": [
              "<div>\n",
              "<style scoped>\n",
              "    .dataframe tbody tr th:only-of-type {\n",
              "        vertical-align: middle;\n",
              "    }\n",
              "\n",
              "    .dataframe tbody tr th {\n",
              "        vertical-align: top;\n",
              "    }\n",
              "\n",
              "    .dataframe thead th {\n",
              "        text-align: right;\n",
              "    }\n",
              "</style>\n",
              "<table border=\"1\" class=\"dataframe\">\n",
              "  <thead>\n",
              "    <tr style=\"text-align: right;\">\n",
              "      <th></th>\n",
              "      <th>Pclass</th>\n",
              "      <th>Sex</th>\n",
              "      <th>Age</th>\n",
              "      <th>SibSp</th>\n",
              "      <th>Parch</th>\n",
              "      <th>Survived</th>\n",
              "    </tr>\n",
              "  </thead>\n",
              "  <tbody>\n",
              "    <tr>\n",
              "      <th>0</th>\n",
              "      <td>3</td>\n",
              "      <td>1</td>\n",
              "      <td>22.0</td>\n",
              "      <td>1</td>\n",
              "      <td>0</td>\n",
              "      <td>0</td>\n",
              "    </tr>\n",
              "    <tr>\n",
              "      <th>1</th>\n",
              "      <td>1</td>\n",
              "      <td>0</td>\n",
              "      <td>38.0</td>\n",
              "      <td>1</td>\n",
              "      <td>0</td>\n",
              "      <td>1</td>\n",
              "    </tr>\n",
              "    <tr>\n",
              "      <th>2</th>\n",
              "      <td>3</td>\n",
              "      <td>0</td>\n",
              "      <td>26.0</td>\n",
              "      <td>0</td>\n",
              "      <td>0</td>\n",
              "      <td>1</td>\n",
              "    </tr>\n",
              "    <tr>\n",
              "      <th>3</th>\n",
              "      <td>1</td>\n",
              "      <td>0</td>\n",
              "      <td>35.0</td>\n",
              "      <td>1</td>\n",
              "      <td>0</td>\n",
              "      <td>1</td>\n",
              "    </tr>\n",
              "    <tr>\n",
              "      <th>4</th>\n",
              "      <td>3</td>\n",
              "      <td>1</td>\n",
              "      <td>35.0</td>\n",
              "      <td>0</td>\n",
              "      <td>0</td>\n",
              "      <td>0</td>\n",
              "    </tr>\n",
              "  </tbody>\n",
              "</table>\n",
              "</div>"
            ],
            "text/plain": [
              "   Pclass  Sex   Age  SibSp  Parch  Survived\n",
              "0       3    1  22.0      1      0         0\n",
              "1       1    0  38.0      1      0         1\n",
              "2       3    0  26.0      0      0         1\n",
              "3       1    0  35.0      1      0         1\n",
              "4       3    1  35.0      0      0         0"
            ]
          },
          "execution_count": 18,
          "metadata": {},
          "output_type": "execute_result"
        }
      ],
      "source": [
        "# Utiliza el LabelEncoder para codificar la columna Sex, remplazando\n",
        "# esa columna por la nueva en el dataset nuevo que acaba de generar\n",
        "# Recuerde conservar el encoder!\n",
        "le = LabelEncoder()\n",
        "label_encoding = le.fit_transform(df_cod['Sex'])\n",
        "df_cod['Sex'] = label_encoding\n",
        "df_cod.head()"
      ]
    },
    {
      "cell_type": "code",
      "execution_count": 19,
      "metadata": {
        "id": "WNnJf9vG2dad"
      },
      "outputs": [
        {
          "data": {
            "text/plain": [
              "array(['female', 'male'], dtype=object)"
            ]
          },
          "execution_count": 19,
          "metadata": {},
          "output_type": "execute_result"
        }
      ],
      "source": [
        "# Alumno,  imprimir las clases que ha detectado su encoder\n",
        "# (debe llamar al atributo classes_)\n",
        "le.classes_"
      ]
    },
    {
      "cell_type": "code",
      "execution_count": 20,
      "metadata": {
        "id": "MoTnc2ayGzha"
      },
      "outputs": [
        {
          "name": "stderr",
          "output_type": "stream",
          "text": [
            "c:\\Users\\Win10\\AppData\\Local\\Programs\\Python\\Python310\\lib\\site-packages\\seaborn\\axisgrid.py:118: UserWarning: The figure layout has changed to tight\n",
            "  self._figure.tight_layout(*args, **kwargs)\n"
          ]
        },
        {
          "data": {
            "text/plain": [
              "<seaborn.axisgrid.FacetGrid at 0x1bbd8fed6f0>"
            ]
          },
          "execution_count": 20,
          "metadata": {},
          "output_type": "execute_result"
        },
        {
          "data": {
            "image/png": "[encoded data removed]",
            "text/plain": [
              "<Figure size 500x500 with 1 Axes>"
            ]
          },
          "metadata": {},
          "output_type": "display_data"
        }
      ],
      "source": [
        "# Alumno: Analizar la distribución de la edad\n",
        "sns.displot(x=df_cod['Age'])"
      ]
    },
    {
      "cell_type": "code",
      "execution_count": 21,
      "metadata": {
        "id": "Q1pO_7A_HsqA"
      },
      "outputs": [],
      "source": [
        "# Alumno, cree un dataset df_cod como copia del que viene trabajando\n",
        "df_norm = df_cod.copy()"
      ]
    },
    {
      "cell_type": "code",
      "execution_count": 22,
      "metadata": {
        "id": "55eENaMEHKxA"
      },
      "outputs": [
        {
          "data": {
            "text/html": [
              "<div>\n",
              "<style scoped>\n",
              "    .dataframe tbody tr th:only-of-type {\n",
              "        vertical-align: middle;\n",
              "    }\n",
              "\n",
              "    .dataframe tbody tr th {\n",
              "        vertical-align: top;\n",
              "    }\n",
              "\n",
              "    .dataframe thead th {\n",
              "        text-align: right;\n",
              "    }\n",
              "</style>\n",
              "<table border=\"1\" class=\"dataframe\">\n",
              "  <thead>\n",
              "    <tr style=\"text-align: right;\">\n",
              "      <th></th>\n",
              "      <th>Pclass</th>\n",
              "      <th>Sex</th>\n",
              "      <th>Age</th>\n",
              "      <th>SibSp</th>\n",
              "      <th>Parch</th>\n",
              "      <th>Survived</th>\n",
              "    </tr>\n",
              "  </thead>\n",
              "  <tbody>\n",
              "    <tr>\n",
              "      <th>0</th>\n",
              "      <td>3</td>\n",
              "      <td>1</td>\n",
              "      <td>-0.530377</td>\n",
              "      <td>1</td>\n",
              "      <td>0</td>\n",
              "      <td>0</td>\n",
              "    </tr>\n",
              "    <tr>\n",
              "      <th>1</th>\n",
              "      <td>1</td>\n",
              "      <td>0</td>\n",
              "      <td>0.571831</td>\n",
              "      <td>1</td>\n",
              "      <td>0</td>\n",
              "      <td>1</td>\n",
              "    </tr>\n",
              "    <tr>\n",
              "      <th>2</th>\n",
              "      <td>3</td>\n",
              "      <td>0</td>\n",
              "      <td>-0.254825</td>\n",
              "      <td>0</td>\n",
              "      <td>0</td>\n",
              "      <td>1</td>\n",
              "    </tr>\n",
              "    <tr>\n",
              "      <th>3</th>\n",
              "      <td>1</td>\n",
              "      <td>0</td>\n",
              "      <td>0.365167</td>\n",
              "      <td>1</td>\n",
              "      <td>0</td>\n",
              "      <td>1</td>\n",
              "    </tr>\n",
              "    <tr>\n",
              "      <th>4</th>\n",
              "      <td>3</td>\n",
              "      <td>1</td>\n",
              "      <td>0.365167</td>\n",
              "      <td>0</td>\n",
              "      <td>0</td>\n",
              "      <td>0</td>\n",
              "    </tr>\n",
              "  </tbody>\n",
              "</table>\n",
              "</div>"
            ],
            "text/plain": [
              "   Pclass  Sex       Age  SibSp  Parch  Survived\n",
              "0       3    1 -0.530377      1      0         0\n",
              "1       1    0  0.571831      1      0         1\n",
              "2       3    0 -0.254825      0      0         1\n",
              "3       1    0  0.365167      1      0         1\n",
              "4       3    1  0.365167      0      0         0"
            ]
          },
          "execution_count": 22,
          "metadata": {},
          "output_type": "execute_result"
        }
      ],
      "source": [
        "# Alumno: utilizar StandarScaler para normalizar la column de \"Age\"\n",
        "# Conservar el scaler que lo necesitará para el final\n",
        "from sklearn.preprocessing import StandardScaler\n",
        "scaler = StandardScaler()\n",
        "df_norm['Age'] = scaler.fit_transform(df_norm['Age'].values.reshape(-1,1))\n",
        "df_norm.head()"
      ]
    },
    {
      "cell_type": "markdown",
      "metadata": {
        "id": "7z_SuZlj3gbQ"
      },
      "source": [
        "# Entrenar modelo\n",
        "<img src=\"https://raw.githubusercontent.com/InoveAlumnos/dataset_analytics_python/master/images/Pipeline4.png\" width=\"1000\" align=\"middle\">"
      ]
    },
    {
      "cell_type": "markdown",
      "metadata": {
        "id": "ntY84fHj3q5q"
      },
      "source": [
        "El primer paso es obtener los datos que serán la entrada del sistema (X) y los datos que serán la salida del modelo estimador (y)"
      ]
    },
    {
      "cell_type": "code",
      "execution_count": 23,
      "metadata": {
        "id": "EIg2_OQ43fqZ"
      },
      "outputs": [],
      "source": [
        "# Alumno: genere un numpy array \"X\" que posea todos los feutres (todo menos Survived)\n",
        "# genere un array numpy \"y\" de solo la columna Survived\n",
        "X = df_norm.drop('Survived', axis=1).values\n",
        "y = df_norm['Survived'].values"
      ]
    },
    {
      "cell_type": "code",
      "execution_count": 24,
      "metadata": {},
      "outputs": [
        {
          "data": {
            "text/plain": [
              "(714,)"
            ]
          },
          "execution_count": 24,
          "metadata": {},
          "output_type": "execute_result"
        }
      ],
      "source": [
        "y.shape"
      ]
    },
    {
      "cell_type": "code",
      "execution_count": 25,
      "metadata": {
        "id": "80EhnBgTJAiU"
      },
      "outputs": [
        {
          "data": {
            "text/plain": [
              "5"
            ]
          },
          "execution_count": 25,
          "metadata": {},
          "output_type": "execute_result"
        }
      ],
      "source": [
        "# Alumno: obtener la cantidad de features (cantidad de columnas)\n",
        "# y almacenar en in_shape\n",
        "in_shape = X.shape[1]\n",
        "in_shape"
      ]
    },
    {
      "cell_type": "code",
      "execution_count": 26,
      "metadata": {
        "id": "bW7yowUVJI0v"
      },
      "outputs": [],
      "source": [
        "# Alumno: crear una variable out_shape indicando cuandas neuronas de salida desea\n",
        "out_shape = 1"
      ]
    },
    {
      "cell_type": "markdown",
      "metadata": {
        "id": "sbr-SnON4LuM"
      },
      "source": [
        "Siguiente paso es dividir el dataset en entrenamiento (train) y evaluación (test). Utilizaremos el criterio 80%20%"
      ]
    },
    {
      "cell_type": "code",
      "execution_count": 27,
      "metadata": {
        "id": "BVD4YkjS4MW2"
      },
      "outputs": [],
      "source": [
        "# Alumno, generar los dataset de train y test superando en 80%20%\n",
        "from sklearn.model_selection import train_test_split\n",
        "X_train, X_test, y_train, y_test = train_test_split(X, y, test_size=0.2, random_state=42)"
      ]
    },
    {
      "cell_type": "code",
      "execution_count": 28,
      "metadata": {
        "id": "ZRw2jgPl4Xuc"
      },
      "outputs": [
        {
          "name": "stdout",
          "output_type": "stream",
          "text": [
            "WARNING:tensorflow:From c:\\Users\\Win10\\AppData\\Local\\Programs\\Python\\Python310\\lib\\site-packages\\keras\\src\\backend.py:873: The name tf.get_default_graph is deprecated. Please use tf.compat.v1.get_default_graph instead.\n",
            "\n"
          ]
        }
      ],
      "source": [
        "from keras.layers import Dense\n",
        "# Alumno: crear un modelo secuencial de dos capas (hidden y output).\n",
        "# Coloque correctamente el valor de in_shape y out_shape en el modelo\n",
        "# pero seleccione por su cuenta la cantidad de neuronas en la capa oculta\n",
        "\n",
        "model = Sequential()\n",
        "\n",
        "model.add(Dense(units=64, activation='sigmoid', input_shape=(in_shape,)))\n",
        "\n",
        "model.add(Dense(units=out_shape, activation='sigmoid'))"
      ]
    },
    {
      "cell_type": "code",
      "execution_count": 58,
      "metadata": {
        "id": "BzH_dPq7K8yU"
      },
      "outputs": [],
      "source": [
        "# Alumno: compilar el modelo con binary_crossentropy y métrica de \"accuracy\"\n",
        "model.compile(optimizer='Adam',\n",
        "            loss='binary_crossentropy',\n",
        "            metrics='accuracy')"
      ]
    },
    {
      "cell_type": "code",
      "execution_count": 30,
      "metadata": {
        "id": "P1q1Z7voLPYb"
      },
      "outputs": [
        {
          "name": "stdout",
          "output_type": "stream",
          "text": [
            "Epoch 1/80\n",
            "WARNING:tensorflow:From c:\\Users\\Win10\\AppData\\Local\\Programs\\Python\\Python310\\lib\\site-packages\\keras\\src\\utils\\tf_utils.py:492: The name tf.ragged.RaggedTensorValue is deprecated. Please use tf.compat.v1.ragged.RaggedTensorValue instead.\n",
            "\n",
            "WARNING:tensorflow:From c:\\Users\\Win10\\AppData\\Local\\Programs\\Python\\Python310\\lib\\site-packages\\keras\\src\\engine\\base_layer_utils.py:384: The name tf.executing_eagerly_outside_functions is deprecated. Please use tf.compat.v1.executing_eagerly_outside_functions instead.\n",
            "\n",
            "15/15 [==============================] - 1s 15ms/step - loss: 0.7784 - accuracy: 0.3969 - val_loss: 0.6914 - val_accuracy: 0.4783\n",
            "Epoch 2/80\n",
            "15/15 [==============================] - 0s 4ms/step - loss: 0.6670 - accuracy: 0.6294 - val_loss: 0.6578 - val_accuracy: 0.6348\n",
            "Epoch 3/80\n",
            "15/15 [==============================] - 0s 4ms/step - loss: 0.6396 - accuracy: 0.6425 - val_loss: 0.6615 - val_accuracy: 0.5913\n",
            "Epoch 4/80\n",
            "15/15 [==============================] - 0s 4ms/step - loss: 0.6314 - accuracy: 0.6250 - val_loss: 0.6604 - val_accuracy: 0.5913\n",
            "Epoch 5/80\n",
            "15/15 [==============================] - 0s 4ms/step - loss: 0.6250 - accuracy: 0.6425 - val_loss: 0.6513 - val_accuracy: 0.6174\n",
            "Epoch 6/80\n",
            "15/15 [==============================] - 0s 4ms/step - loss: 0.6194 - accuracy: 0.6535 - val_loss: 0.6477 - val_accuracy: 0.6261\n",
            "Epoch 7/80\n",
            "15/15 [==============================] - 0s 4ms/step - loss: 0.6138 - accuracy: 0.6601 - val_loss: 0.6448 - val_accuracy: 0.6261\n",
            "Epoch 8/80\n",
            "15/15 [==============================] - 0s 4ms/step - loss: 0.6092 - accuracy: 0.6469 - val_loss: 0.6433 - val_accuracy: 0.6261\n",
            "Epoch 9/80\n",
            "15/15 [==============================] - 0s 4ms/step - loss: 0.6047 - accuracy: 0.6711 - val_loss: 0.6362 - val_accuracy: 0.6261\n",
            "Epoch 10/80\n",
            "15/15 [==============================] - 0s 4ms/step - loss: 0.5986 - accuracy: 0.6689 - val_loss: 0.6354 - val_accuracy: 0.6087\n",
            "Epoch 11/80\n",
            "15/15 [==============================] - 0s 4ms/step - loss: 0.5933 - accuracy: 0.6754 - val_loss: 0.6288 - val_accuracy: 0.6348\n",
            "Epoch 12/80\n",
            "15/15 [==============================] - 0s 4ms/step - loss: 0.5913 - accuracy: 0.7083 - val_loss: 0.6198 - val_accuracy: 0.6696\n",
            "Epoch 13/80\n",
            "15/15 [==============================] - 0s 4ms/step - loss: 0.5846 - accuracy: 0.7171 - val_loss: 0.6169 - val_accuracy: 0.6609\n",
            "Epoch 14/80\n",
            "15/15 [==============================] - 0s 4ms/step - loss: 0.5790 - accuracy: 0.7127 - val_loss: 0.6148 - val_accuracy: 0.6609\n",
            "Epoch 15/80\n",
            "15/15 [==============================] - 0s 4ms/step - loss: 0.5739 - accuracy: 0.7149 - val_loss: 0.6118 - val_accuracy: 0.6609\n",
            "Epoch 16/80\n",
            "15/15 [==============================] - 0s 4ms/step - loss: 0.5692 - accuracy: 0.7149 - val_loss: 0.6057 - val_accuracy: 0.6783\n",
            "Epoch 17/80\n",
            "15/15 [==============================] - 0s 4ms/step - loss: 0.5647 - accuracy: 0.7259 - val_loss: 0.6017 - val_accuracy: 0.6783\n",
            "Epoch 18/80\n",
            "15/15 [==============================] - 0s 4ms/step - loss: 0.5598 - accuracy: 0.7390 - val_loss: 0.5964 - val_accuracy: 0.6957\n",
            "Epoch 19/80\n",
            "15/15 [==============================] - 0s 5ms/step - loss: 0.5550 - accuracy: 0.7456 - val_loss: 0.5920 - val_accuracy: 0.7043\n",
            "Epoch 20/80\n",
            "15/15 [==============================] - 0s 5ms/step - loss: 0.5504 - accuracy: 0.7566 - val_loss: 0.5881 - val_accuracy: 0.7043\n",
            "Epoch 21/80\n",
            "15/15 [==============================] - 0s 4ms/step - loss: 0.5454 - accuracy: 0.7544 - val_loss: 0.5855 - val_accuracy: 0.7130\n",
            "Epoch 22/80\n",
            "15/15 [==============================] - 0s 4ms/step - loss: 0.5423 - accuracy: 0.7500 - val_loss: 0.5828 - val_accuracy: 0.7217\n",
            "Epoch 23/80\n",
            "15/15 [==============================] - 0s 4ms/step - loss: 0.5365 - accuracy: 0.7654 - val_loss: 0.5736 - val_accuracy: 0.7217\n",
            "Epoch 24/80\n",
            "15/15 [==============================] - 0s 4ms/step - loss: 0.5324 - accuracy: 0.7851 - val_loss: 0.5705 - val_accuracy: 0.7304\n",
            "Epoch 25/80\n",
            "15/15 [==============================] - 0s 4ms/step - loss: 0.5276 - accuracy: 0.7917 - val_loss: 0.5651 - val_accuracy: 0.7304\n",
            "Epoch 26/80\n",
            "15/15 [==============================] - 0s 4ms/step - loss: 0.5241 - accuracy: 0.7917 - val_loss: 0.5613 - val_accuracy: 0.7304\n",
            "Epoch 27/80\n",
            "15/15 [==============================] - 0s 4ms/step - loss: 0.5191 - accuracy: 0.7829 - val_loss: 0.5610 - val_accuracy: 0.7217\n",
            "Epoch 28/80\n",
            "15/15 [==============================] - 0s 5ms/step - loss: 0.5152 - accuracy: 0.7851 - val_loss: 0.5543 - val_accuracy: 0.7391\n",
            "Epoch 29/80\n",
            "15/15 [==============================] - 0s 4ms/step - loss: 0.5112 - accuracy: 0.7982 - val_loss: 0.5494 - val_accuracy: 0.7391\n",
            "Epoch 30/80\n",
            "15/15 [==============================] - 0s 4ms/step - loss: 0.5072 - accuracy: 0.8070 - val_loss: 0.5452 - val_accuracy: 0.7478\n",
            "Epoch 31/80\n",
            "15/15 [==============================] - 0s 5ms/step - loss: 0.5035 - accuracy: 0.8048 - val_loss: 0.5430 - val_accuracy: 0.7565\n",
            "Epoch 32/80\n",
            "15/15 [==============================] - 0s 4ms/step - loss: 0.4993 - accuracy: 0.8026 - val_loss: 0.5385 - val_accuracy: 0.7652\n",
            "Epoch 33/80\n",
            "15/15 [==============================] - 0s 4ms/step - loss: 0.4963 - accuracy: 0.8026 - val_loss: 0.5356 - val_accuracy: 0.7652\n",
            "Epoch 34/80\n",
            "15/15 [==============================] - 0s 4ms/step - loss: 0.4936 - accuracy: 0.8026 - val_loss: 0.5371 - val_accuracy: 0.7478\n",
            "Epoch 35/80\n",
            "15/15 [==============================] - 0s 4ms/step - loss: 0.4889 - accuracy: 0.8092 - val_loss: 0.5303 - val_accuracy: 0.7652\n",
            "Epoch 36/80\n",
            "15/15 [==============================] - 0s 4ms/step - loss: 0.4857 - accuracy: 0.8180 - val_loss: 0.5265 - val_accuracy: 0.7565\n",
            "Epoch 37/80\n",
            "15/15 [==============================] - 0s 4ms/step - loss: 0.4825 - accuracy: 0.8246 - val_loss: 0.5265 - val_accuracy: 0.7565\n",
            "Epoch 38/80\n",
            "15/15 [==============================] - 0s 4ms/step - loss: 0.4800 - accuracy: 0.8180 - val_loss: 0.5247 - val_accuracy: 0.7478\n",
            "Epoch 39/80\n",
            "15/15 [==============================] - 0s 4ms/step - loss: 0.4773 - accuracy: 0.8180 - val_loss: 0.5207 - val_accuracy: 0.7478\n",
            "Epoch 40/80\n",
            "15/15 [==============================] - 0s 4ms/step - loss: 0.4741 - accuracy: 0.8268 - val_loss: 0.5189 - val_accuracy: 0.7478\n",
            "Epoch 41/80\n",
            "15/15 [==============================] - 0s 4ms/step - loss: 0.4715 - accuracy: 0.8289 - val_loss: 0.5161 - val_accuracy: 0.7478\n",
            "Epoch 42/80\n",
            "15/15 [==============================] - 0s 4ms/step - loss: 0.4688 - accuracy: 0.8268 - val_loss: 0.5122 - val_accuracy: 0.7652\n",
            "Epoch 43/80\n",
            "15/15 [==============================] - 0s 4ms/step - loss: 0.4662 - accuracy: 0.8268 - val_loss: 0.5062 - val_accuracy: 0.7652\n",
            "Epoch 44/80\n",
            "15/15 [==============================] - 0s 5ms/step - loss: 0.4643 - accuracy: 0.8202 - val_loss: 0.5039 - val_accuracy: 0.7652\n",
            "Epoch 45/80\n",
            "15/15 [==============================] - 0s 4ms/step - loss: 0.4620 - accuracy: 0.8202 - val_loss: 0.5009 - val_accuracy: 0.7739\n",
            "Epoch 46/80\n",
            "15/15 [==============================] - 0s 4ms/step - loss: 0.4606 - accuracy: 0.8158 - val_loss: 0.4994 - val_accuracy: 0.7826\n",
            "Epoch 47/80\n",
            "15/15 [==============================] - 0s 4ms/step - loss: 0.4576 - accuracy: 0.8202 - val_loss: 0.5010 - val_accuracy: 0.7826\n",
            "Epoch 48/80\n",
            "15/15 [==============================] - 0s 4ms/step - loss: 0.4558 - accuracy: 0.8202 - val_loss: 0.4997 - val_accuracy: 0.7913\n",
            "Epoch 49/80\n",
            "15/15 [==============================] - 0s 4ms/step - loss: 0.4540 - accuracy: 0.8202 - val_loss: 0.4968 - val_accuracy: 0.7739\n",
            "Epoch 50/80\n",
            "15/15 [==============================] - 0s 4ms/step - loss: 0.4534 - accuracy: 0.8136 - val_loss: 0.4924 - val_accuracy: 0.7739\n",
            "Epoch 51/80\n",
            "15/15 [==============================] - 0s 4ms/step - loss: 0.4500 - accuracy: 0.8158 - val_loss: 0.4958 - val_accuracy: 0.7913\n",
            "Epoch 52/80\n",
            "15/15 [==============================] - 0s 4ms/step - loss: 0.4499 - accuracy: 0.8202 - val_loss: 0.4976 - val_accuracy: 0.7913\n",
            "Epoch 53/80\n",
            "15/15 [==============================] - 0s 4ms/step - loss: 0.4475 - accuracy: 0.8202 - val_loss: 0.4948 - val_accuracy: 0.7913\n",
            "Epoch 54/80\n",
            "15/15 [==============================] - 0s 4ms/step - loss: 0.4462 - accuracy: 0.8180 - val_loss: 0.4937 - val_accuracy: 0.7913\n",
            "Epoch 55/80\n",
            "15/15 [==============================] - 0s 4ms/step - loss: 0.4449 - accuracy: 0.8158 - val_loss: 0.4875 - val_accuracy: 0.7826\n",
            "Epoch 56/80\n",
            "15/15 [==============================] - 0s 4ms/step - loss: 0.4431 - accuracy: 0.8114 - val_loss: 0.4884 - val_accuracy: 0.7826\n",
            "Epoch 57/80\n",
            "15/15 [==============================] - 0s 4ms/step - loss: 0.4418 - accuracy: 0.8158 - val_loss: 0.4892 - val_accuracy: 0.7826\n",
            "Epoch 58/80\n",
            "15/15 [==============================] - 0s 4ms/step - loss: 0.4427 - accuracy: 0.8114 - val_loss: 0.4881 - val_accuracy: 0.7826\n",
            "Epoch 59/80\n",
            "15/15 [==============================] - 0s 4ms/step - loss: 0.4409 - accuracy: 0.8180 - val_loss: 0.4930 - val_accuracy: 0.7913\n",
            "Epoch 60/80\n",
            "15/15 [==============================] - 0s 4ms/step - loss: 0.4384 - accuracy: 0.8136 - val_loss: 0.4829 - val_accuracy: 0.8000\n",
            "Epoch 61/80\n",
            "15/15 [==============================] - 0s 4ms/step - loss: 0.4380 - accuracy: 0.8070 - val_loss: 0.4805 - val_accuracy: 0.7913\n",
            "Epoch 62/80\n",
            "15/15 [==============================] - 0s 4ms/step - loss: 0.4373 - accuracy: 0.8114 - val_loss: 0.4859 - val_accuracy: 0.7826\n",
            "Epoch 63/80\n",
            "15/15 [==============================] - 0s 4ms/step - loss: 0.4353 - accuracy: 0.8092 - val_loss: 0.4822 - val_accuracy: 0.7913\n",
            "Epoch 64/80\n",
            "15/15 [==============================] - 0s 4ms/step - loss: 0.4346 - accuracy: 0.8092 - val_loss: 0.4808 - val_accuracy: 0.7913\n",
            "Epoch 65/80\n",
            "15/15 [==============================] - 0s 4ms/step - loss: 0.4336 - accuracy: 0.8092 - val_loss: 0.4810 - val_accuracy: 0.7913\n",
            "Epoch 66/80\n",
            "15/15 [==============================] - 0s 4ms/step - loss: 0.4339 - accuracy: 0.8158 - val_loss: 0.4836 - val_accuracy: 0.7913\n",
            "Epoch 67/80\n",
            "15/15 [==============================] - 0s 4ms/step - loss: 0.4332 - accuracy: 0.8114 - val_loss: 0.4779 - val_accuracy: 0.7913\n",
            "Epoch 68/80\n",
            "15/15 [==============================] - 0s 5ms/step - loss: 0.4314 - accuracy: 0.8092 - val_loss: 0.4792 - val_accuracy: 0.7913\n",
            "Epoch 69/80\n",
            "15/15 [==============================] - 0s 4ms/step - loss: 0.4310 - accuracy: 0.8092 - val_loss: 0.4812 - val_accuracy: 0.7913\n",
            "Epoch 70/80\n",
            "15/15 [==============================] - 0s 4ms/step - loss: 0.4302 - accuracy: 0.8026 - val_loss: 0.4781 - val_accuracy: 0.7913\n",
            "Epoch 71/80\n",
            "15/15 [==============================] - 0s 4ms/step - loss: 0.4291 - accuracy: 0.8048 - val_loss: 0.4809 - val_accuracy: 0.7913\n",
            "Epoch 72/80\n",
            "15/15 [==============================] - 0s 4ms/step - loss: 0.4291 - accuracy: 0.8136 - val_loss: 0.4779 - val_accuracy: 0.7913\n",
            "Epoch 73/80\n",
            "15/15 [==============================] - 0s 4ms/step - loss: 0.4279 - accuracy: 0.8048 - val_loss: 0.4769 - val_accuracy: 0.7913\n",
            "Epoch 74/80\n",
            "15/15 [==============================] - 0s 4ms/step - loss: 0.4272 - accuracy: 0.8048 - val_loss: 0.4740 - val_accuracy: 0.7913\n",
            "Epoch 75/80\n",
            "15/15 [==============================] - 0s 4ms/step - loss: 0.4266 - accuracy: 0.8026 - val_loss: 0.4747 - val_accuracy: 0.7913\n",
            "Epoch 76/80\n",
            "15/15 [==============================] - 0s 4ms/step - loss: 0.4265 - accuracy: 0.8092 - val_loss: 0.4767 - val_accuracy: 0.7913\n",
            "Epoch 77/80\n",
            "15/15 [==============================] - 0s 4ms/step - loss: 0.4279 - accuracy: 0.7961 - val_loss: 0.4687 - val_accuracy: 0.7913\n",
            "Epoch 78/80\n",
            "15/15 [==============================] - 0s 4ms/step - loss: 0.4259 - accuracy: 0.8092 - val_loss: 0.4719 - val_accuracy: 0.7913\n",
            "Epoch 79/80\n",
            "15/15 [==============================] - 0s 4ms/step - loss: 0.4251 - accuracy: 0.8092 - val_loss: 0.4759 - val_accuracy: 0.7913\n",
            "Epoch 80/80\n",
            "15/15 [==============================] - 0s 4ms/step - loss: 0.4249 - accuracy: 0.8048 - val_loss: 0.4744 - val_accuracy: 0.7913\n"
          ]
        }
      ],
      "source": [
        "# Alumno: entrenar el modelo, seleccionar un 20% para el dataset de validacion\n",
        "# Queda a su gusto seleccionar la cantidad de épocas\n",
        "# Almacenar la salida del fit en una variable \"history\"\n",
        "history = model.fit(X_train, y_train, validation_split=0.2 , epochs=80)"
      ]
    },
    {
      "cell_type": "code",
      "execution_count": 34,
      "metadata": {},
      "outputs": [
        {
          "data": {
            "text/plain": [
              "[0.47826087474823,\n",
              " 0.634782612323761,\n",
              " 0.591304361820221,\n",
              " 0.591304361820221,\n",
              " 0.6173912882804871,\n",
              " 0.626086950302124,\n",
              " 0.626086950302124,\n",
              " 0.626086950302124,\n",
              " 0.626086950302124,\n",
              " 0.6086956262588501,\n",
              " 0.634782612323761,\n",
              " 0.6695652008056641,\n",
              " 0.6608695387840271,\n",
              " 0.6608695387840271,\n",
              " 0.6608695387840271,\n",
              " 0.678260862827301,\n",
              " 0.678260862827301,\n",
              " 0.695652186870575,\n",
              " 0.7043478488922119,\n",
              " 0.7043478488922119,\n",
              " 0.7130434513092041,\n",
              " 0.7217391133308411,\n",
              " 0.7217391133308411,\n",
              " 0.730434775352478,\n",
              " 0.730434775352478,\n",
              " 0.730434775352478,\n",
              " 0.7217391133308411,\n",
              " 0.739130437374115,\n",
              " 0.739130437374115,\n",
              " 0.747826099395752,\n",
              " 0.7565217614173889,\n",
              " 0.7652173638343811,\n",
              " 0.7652173638343811,\n",
              " 0.747826099395752,\n",
              " 0.7652173638343811,\n",
              " 0.7565217614173889,\n",
              " 0.7565217614173889,\n",
              " 0.747826099395752,\n",
              " 0.747826099395752,\n",
              " 0.747826099395752,\n",
              " 0.747826099395752,\n",
              " 0.7652173638343811,\n",
              " 0.7652173638343811,\n",
              " 0.7652173638343811,\n",
              " 0.7739130258560181,\n",
              " 0.782608687877655,\n",
              " 0.782608687877655,\n",
              " 0.791304349899292,\n",
              " 0.7739130258560181,\n",
              " 0.7739130258560181,\n",
              " 0.791304349899292,\n",
              " 0.791304349899292,\n",
              " 0.791304349899292,\n",
              " 0.791304349899292,\n",
              " 0.782608687877655,\n",
              " 0.782608687877655,\n",
              " 0.782608687877655,\n",
              " 0.782608687877655,\n",
              " 0.791304349899292,\n",
              " 0.800000011920929,\n",
              " 0.791304349899292,\n",
              " 0.782608687877655,\n",
              " 0.791304349899292,\n",
              " 0.791304349899292,\n",
              " 0.791304349899292,\n",
              " 0.791304349899292,\n",
              " 0.791304349899292,\n",
              " 0.791304349899292,\n",
              " 0.791304349899292,\n",
              " 0.791304349899292,\n",
              " 0.791304349899292,\n",
              " 0.791304349899292,\n",
              " 0.791304349899292,\n",
              " 0.791304349899292,\n",
              " 0.791304349899292,\n",
              " 0.791304349899292,\n",
              " 0.791304349899292,\n",
              " 0.791304349899292,\n",
              " 0.791304349899292,\n",
              " 0.791304349899292]"
            ]
          },
          "execution_count": 34,
          "metadata": {},
          "output_type": "execute_result"
        }
      ],
      "source": [
        "history.history['val_accuracy']"
      ]
    },
    {
      "cell_type": "code",
      "execution_count": 39,
      "metadata": {
        "id": "12SHo7bDLpHk"
      },
      "outputs": [
        {
          "data": {
            "text/plain": [
              "<Axes: >"
            ]
          },
          "execution_count": 39,
          "metadata": {},
          "output_type": "execute_result"
        },
        {
          "data": {
            "image/png": "[encoded data removed]",
            "text/plain": [
              "<Figure size 640x480 with 1 Axes>"
            ]
          },
          "metadata": {},
          "output_type": "display_data"
        }
      ],
      "source": [
        "# Alumno: Graficar la evolución del accuracy durante el entrenamiento\n",
        "# tanto para el dataset de train y el de valid en un gráfico\n",
        "# plot line\n",
        "epoch_count = range(1, len(history.history['accuracy'])+1)\n",
        "sns.lineplot(x=epoch_count,y=history.history['accuracy'], label='Train')\n",
        "sns.lineplot(x=epoch_count,y=history.history['val_accuracy'], label='Val')"
      ]
    },
    {
      "cell_type": "code",
      "execution_count": 40,
      "metadata": {
        "id": "rMuNNR9HL97_"
      },
      "outputs": [
        {
          "name": "stdout",
          "output_type": "stream",
          "text": [
            "5/5 [==============================] - 0s 3ms/step\n"
          ]
        }
      ],
      "source": [
        "# Alumno: obtener la probabilidad de sobreviir (y_hat_prob)\n",
        "# realizando una prediccion (predict) con el dataset de test\n",
        "y_hat_prob = model.predict(X_test)"
      ]
    },
    {
      "cell_type": "code",
      "execution_count": 42,
      "metadata": {
        "id": "MiLJQi_gMIsS"
      },
      "outputs": [
        {
          "data": {
            "text/plain": [
              "[0,\n",
              " 0,\n",
              " 1,\n",
              " 1,\n",
              " 0,\n",
              " 0,\n",
              " 0,\n",
              " 1,\n",
              " 1,\n",
              " 1,\n",
              " 1,\n",
              " 1,\n",
              " 0,\n",
              " 0,\n",
              " 1,\n",
              " 0,\n",
              " 0,\n",
              " 1,\n",
              " 0,\n",
              " 1,\n",
              " 0,\n",
              " 1,\n",
              " 1,\n",
              " 0,\n",
              " 0,\n",
              " 0,\n",
              " 0,\n",
              " 0,\n",
              " 1,\n",
              " 0,\n",
              " 1,\n",
              " 1,\n",
              " 0,\n",
              " 0,\n",
              " 0,\n",
              " 0,\n",
              " 0,\n",
              " 0,\n",
              " 0,\n",
              " 0,\n",
              " 0,\n",
              " 0,\n",
              " 1,\n",
              " 0,\n",
              " 0,\n",
              " 1,\n",
              " 1,\n",
              " 1,\n",
              " 0,\n",
              " 1,\n",
              " 0,\n",
              " 1,\n",
              " 0,\n",
              " 0,\n",
              " 0,\n",
              " 1,\n",
              " 0,\n",
              " 0,\n",
              " 0,\n",
              " 0,\n",
              " 1,\n",
              " 0,\n",
              " 1,\n",
              " 0,\n",
              " 0,\n",
              " 0,\n",
              " 0,\n",
              " 1,\n",
              " 0,\n",
              " 0,\n",
              " 0,\n",
              " 1,\n",
              " 0,\n",
              " 0,\n",
              " 0,\n",
              " 0,\n",
              " 0,\n",
              " 0,\n",
              " 1,\n",
              " 1,\n",
              " 1,\n",
              " 0,\n",
              " 0,\n",
              " 0,\n",
              " 0,\n",
              " 1,\n",
              " 1,\n",
              " 0,\n",
              " 0,\n",
              " 0,\n",
              " 0,\n",
              " 1,\n",
              " 1,\n",
              " 0,\n",
              " 1,\n",
              " 1,\n",
              " 1,\n",
              " 0,\n",
              " 0,\n",
              " 1,\n",
              " 1,\n",
              " 1,\n",
              " 0,\n",
              " 1,\n",
              " 1,\n",
              " 0,\n",
              " 0,\n",
              " 0,\n",
              " 0,\n",
              " 1,\n",
              " 0,\n",
              " 0,\n",
              " 0,\n",
              " 0,\n",
              " 0,\n",
              " 1,\n",
              " 0,\n",
              " 1,\n",
              " 0,\n",
              " 0,\n",
              " 1,\n",
              " 0,\n",
              " 0,\n",
              " 0,\n",
              " 1,\n",
              " 0,\n",
              " 0,\n",
              " 1,\n",
              " 0,\n",
              " 1,\n",
              " 0,\n",
              " 0,\n",
              " 0,\n",
              " 1,\n",
              " 0,\n",
              " 0,\n",
              " 0,\n",
              " 0,\n",
              " 0,\n",
              " 0,\n",
              " 0,\n",
              " 1,\n",
              " 1]"
            ]
          },
          "execution_count": 42,
          "metadata": {},
          "output_type": "execute_result"
        }
      ],
      "source": [
        "# Alumno: transformar las probabilidads en 0 y 1, si la probabilidad es\n",
        "# mayor o igual a 0.5 definir que la persona sobrevivió (1)\n",
        "# Estos valores guardarlos en y_hat\n",
        "y_hat = [1 if x > 0.50 else 0 for x in y_hat_prob]\n",
        "y_hat"
      ]
    },
    {
      "cell_type": "markdown",
      "metadata": {
        "id": "w3IfjUuI4XnD"
      },
      "source": [
        "# Validar modelo\n",
        "<img src=\"https://raw.githubusercontent.com/InoveAlumnos/dataset_analytics_python/master/images/Pipeline5.png\" width=\"1000\" align=\"middle\">"
      ]
    },
    {
      "cell_type": "code",
      "execution_count": 45,
      "metadata": {
        "id": "CMKONtv55zL8"
      },
      "outputs": [
        {
          "data": {
            "text/plain": [
              "0.7412587412587412"
            ]
          },
          "execution_count": 45,
          "metadata": {},
          "output_type": "execute_result"
        }
      ],
      "source": [
        "# Alumno, calcular la exactitud (accuracy) de su modelo\n",
        "from sklearn.metrics import accuracy_score\n",
        "accuracy_score(y_test,y_hat)"
      ]
    },
    {
      "cell_type": "code",
      "execution_count": 49,
      "metadata": {
        "id": "TeLeYLYz6ZhO"
      },
      "outputs": [
        {
          "data": {
            "text/plain": [
              "<sklearn.metrics._plot.confusion_matrix.ConfusionMatrixDisplay at 0x1bbdf3cbeb0>"
            ]
          },
          "execution_count": 49,
          "metadata": {},
          "output_type": "execute_result"
        },
        {
          "data": {
            "image/png": "[encoded data removed]",
            "text/plain": [
              "<Figure size 640x480 with 2 Axes>"
            ]
          },
          "metadata": {},
          "output_type": "display_data"
        }
      ],
      "source": [
        "# Alumno, dibujar la matriz de confusion\n",
        "# definir display_labels=['NO SOBREVIVE', 'SOBREVIVE']\n",
        "from sklearn.metrics import confusion_matrix,ConfusionMatrixDisplay\n",
        "\n",
        "cm = confusion_matrix(y_test,y_hat)\n",
        "cmd = ConfusionMatrixDisplay(cm,display_labels=['NO SOBREVIVE', 'SOBREVIVE'])\n",
        "cmd.plot()"
      ]
    },
    {
      "cell_type": "markdown",
      "metadata": {
        "id": "9dZxGbjG96jR"
      },
      "source": [
        "# Utilizar modelo\n",
        "<img src=\"https://raw.githubusercontent.com/InoveAlumnos/dataset_analytics_python/master/images/Pipeline6.png\" width=\"1000\" align=\"middle\">"
      ]
    },
    {
      "cell_type": "code",
      "execution_count": 50,
      "metadata": {
        "id": "7YH0C6473i5f"
      },
      "outputs": [
        {
          "name": "stdout",
          "output_type": "stream",
          "text": [
            "1/1 [==============================] - 0s 28ms/step\n",
            "Sobrevivi!\n",
            "Probabilidad de haber sobrevivido: 0.6052914261817932\n"
          ]
        }
      ],
      "source": [
        "# Alumno, pona a prueba el modelo, ingrese datos ficticios y divertase un rato :)\n",
        "# Recordar que los datos de genero (Sex) ahora son numéricos para el modelo (0 o 1)\n",
        "# Debe utilizar el encoder que se generó antes para convertir los nuevos valores\n",
        "# Recordar que los datos de edad (Age) se normalizaron, debe utilizar ese\n",
        "# scaler generado para transformarlo\n",
        "Pclass = 1\n",
        "Sex = 'male'\n",
        "Age = 6\n",
        "SibSp = 2\n",
        "Parch = 0\n",
        "\n",
        "# Casteamos el array que devuelve le.transform a int\n",
        "sex_encoded = int(le.transform([Sex]))\n",
        "# Normalizar la edad con el normalizador\n",
        "age_norm = float(scaler.transform([[Age]]))\n",
        "# Crear el array de entrada\n",
        "X_prueba = np.array([Pclass, sex_encoded, age_norm, SibSp, Parch])\n",
        "# El sistema espera 1 fila y N columnas, hay que hacer reshape\n",
        "X_prueba = X_prueba.reshape(1, -1)\n",
        "y_prueba = float(model.predict(X_prueba))\n",
        "\n",
        "if y_prueba >= 0.5:\n",
        "    print('Sobrevivi!')\n",
        "else:\n",
        "    print('Game Over')\n",
        "\n",
        "print('Probabilidad de haber sobrevivido:', y_prueba)"
      ]
    }
  ],
  "metadata": {
    "colab": {
      "collapsed_sections": [],
      "name": "1_titanic.ipynb",
      "provenance": [],
      "toc_visible": true
    },
    "kernelspec": {
      "display_name": "Python 3",
      "name": "python3"
    },
    "language_info": {
      "codemirror_mode": {
        "name": "ipython",
        "version": 3
      },
      "file_extension": ".py",
      "mimetype": "text/x-python",
      "name": "python",
      "nbconvert_exporter": "python",
      "pygments_lexer": "ipython3",
      "version": "3.10.11"
    }
  },
  "nbformat": 4,
  "nbformat_minor": 0
}
